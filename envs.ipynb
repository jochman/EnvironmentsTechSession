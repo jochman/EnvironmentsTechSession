{
 "cells": [
  {
   "cell_type": "markdown",
   "metadata": {
    "slideshow": {
     "slide_type": "slide"
    }
   },
   "source": [
    "# Python Environments\n",
    "![Environemnts](https://media.giphy.com/media/KDzm0erxGj9DjOLIg0/giphy.gif \"dadsa\")"
   ]
  },
  {
   "cell_type": "markdown",
   "metadata": {
    "slideshow": {
     "slide_type": "slide"
    }
   },
   "source": [
    "# Topics\n",
    "\n",
    "* Pyenv\n",
    "* Pipenv\n",
    "* Pipfile and Pipfile.lock\n"
   ]
  },
  {
   "cell_type": "markdown",
   "metadata": {
    "slideshow": {
     "slide_type": "slide"
    }
   },
   "source": [
    "## Problem:\n",
    "I want to run python 2 and python 3.\n",
    "How do I use and install them both?"
   ]
  },
  {
   "cell_type": "markdown",
   "metadata": {
    "slideshow": {
     "slide_type": "subslide"
    }
   },
   "source": [
    "### Solution 1: \n",
    "Refer directy to the installed python:\n",
    "\n",
    "```shell\n",
    "~/python/python2 -m <script name>\n",
    "```"
   ]
  },
  {
   "cell_type": "markdown",
   "metadata": {
    "slideshow": {
     "slide_type": "subslide"
    }
   },
   "source": [
    "### Solution 2: Install and uninstall python\n",
    "```shell\n",
    "brew install python@3.9.4\n",
    "```"
   ]
  },
  {
   "cell_type": "markdown",
   "metadata": {
    "slideshow": {
     "slide_type": "subslide"
    }
   },
   "source": [
    "### Solution 3 (the real one)\n",
    "Use a version manager! (Pyenv)"
   ]
  },
  {
   "cell_type": "markdown",
   "metadata": {
    "slideshow": {
     "slide_type": "subslide"
    }
   },
   "source": [
    "## Pyenv: Simple Python Version Management\n",
    "\n",
    "Main commands:\n",
    "\n",
    "```shell\n",
    "pyenv install\n",
    "pyenv versions\n",
    "pyenv global\n",
    "pyenv local\n",
    "```"
   ]
  },
  {
   "cell_type": "markdown",
   "metadata": {
    "slideshow": {
     "slide_type": "subslide"
    }
   },
   "source": [
    "To install python:\n",
    "```shell\n",
    "pyenv install 2.7.18  // Installs python 2.7.18\n",
    "pyenv install 3.9.4   // Installs python 3.9.4\n",
    "pyenv versions        // See installed versions\n",
    "pyenv global 3.9.4    // Sets the global python version. You can also use local for specific directory\n",
    "```"
   ]
  },
  {
   "cell_type": "markdown",
   "metadata": {
    "slideshow": {
     "slide_type": "subslide"
    }
   },
   "source": [
    "Now you can switch global python versions using `pyenv global/local`!!"
   ]
  },
  {
   "cell_type": "markdown",
   "metadata": {
    "slideshow": {
     "slide_type": "fragment"
    }
   },
   "source": [
    "```bash\n",
    "➜  ~ python --version\n",
    "Python 3.9.4\n",
    "➜  ~ which python\n",
    "/Users/bhochman/.pyenv/shims/python\n",
    "```"
   ]
  },
  {
   "cell_type": "markdown",
   "metadata": {
    "slideshow": {
     "slide_type": "fragment"
    }
   },
   "source": [
    "```shell\n",
    "➜  ~ pyenv install 3.9.5\n",
    "python-build: use openssl@1.1 from homebrew\n",
    "python-build: use readline from homebrew\n",
    "Downloading Python-3.9.5.tar.xz...\n",
    "-> https://www.python.org/ftp/python/3.9.5/Python-3.9.5.tar.xz\n",
    "Installing Python-3.9.5...\n",
    "python-build: use readline from homebrew\n",
    "python-build: use zlib from xcode sdk\n",
    "Installed Python-3.9.5 to /Users/bhochman/.pyenv/versions/3.9.5\n",
    "```"
   ]
  },
  {
   "cell_type": "markdown",
   "metadata": {
    "slideshow": {
     "slide_type": "fragment"
    }
   },
   "source": [
    "```shell\n",
    "➜  ~ pyenv global 3.9.5\n",
    "➜  ~ python --version\n",
    "Python 3.9.5\n",
    "➜  ~ which python\n",
    "/Users/bhochman/.pyenv/shims/python\n",
    "```"
   ]
  },
  {
   "cell_type": "markdown",
   "metadata": {
    "slideshow": {
     "slide_type": "slide"
    }
   },
   "source": [
    "## A depencdency problem:"
   ]
  },
  {
   "cell_type": "markdown",
   "metadata": {
    "slideshow": {
     "slide_type": "fragment"
    }
   },
   "source": [
    "Lets say we have the next requirement in the 3C (CyberCyberCyber) integration:\n",
    "```requirements.txt\n",
    "requests==2.24.0\n",
    "```\n",
    "\n",
    "in Integration FML (Find Malicious Logs) there is the next requirement:\n",
    "```requirements.txt\n",
    "requests==2.25.1\n",
    "```\n",
    "\n",
    "How can we work on both 3C and FML?"
   ]
  },
  {
   "cell_type": "markdown",
   "metadata": {
    "slideshow": {
     "slide_type": "subslide"
    }
   },
   "source": [
    "## Solution 1: Ignore and install the latest\n",
    "We've installed the latest `requests` package. We might get lucky and it did not break both 3C and FML integrations."
   ]
  },
  {
   "cell_type": "markdown",
   "metadata": {
    "slideshow": {
     "slide_type": "fragment"
    }
   },
   "source": [
    "## Solution 2: Install the needed package when needed\n",
    "Aren't you tired of running `pip install\\uninstall` all the day?"
   ]
  },
  {
   "cell_type": "markdown",
   "metadata": {
    "slideshow": {
     "slide_type": "subslide"
    }
   },
   "source": [
    "## Solution 3 (The one that makes sense):\n",
    "# Use pipenv!\n",
    "![mind blown](https://media.giphy.com/media/26ufdipQqU2lhNA4g/giphy.gif)\n",
    "![mind blown](https://media.giphy.com/media/Wyt6sLEjKjaFjzybth/giphy.gif)"
   ]
  },
  {
   "cell_type": "markdown",
   "metadata": {
    "slideshow": {
     "slide_type": "subslide"
    }
   },
   "source": [
    "## Pipenv: Python Development Workflow for Humans\n",
    "Why pipenv?\n",
    "* piplike install\n",
    "* deterministic environment\n",
    "* easy to use"
   ]
  },
  {
   "cell_type": "markdown",
   "metadata": {
    "slideshow": {
     "slide_type": "fragment"
    }
   },
   "source": [
    "Main commands:\n",
    "```shell\n",
    "pipenv install      // Install an environment/package\n",
    "pipenv uninstall    // Uninstall a package\n",
    "pipenv shell        // Use the pipenv as the terminal shell\n",
    "pipenv run          // Run command (pipenv run python)\n",
    "```"
   ]
  },
  {
   "cell_type": "markdown",
   "metadata": {
    "slideshow": {
     "slide_type": "subslide"
    }
   },
   "source": [
    "## How does pipenv manage its environment? \n",
    "### Pipfile and Pipfile.lock"
   ]
  },
  {
   "cell_type": "markdown",
   "metadata": {
    "slideshow": {
     "slide_type": "subslide"
    }
   },
   "source": [
    "What is Pipfile?"
   ]
  },
  {
   "cell_type": "markdown",
   "metadata": {
    "slideshow": {
     "slide_type": "fragment"
    }
   },
   "source": [
    "Typical Pipfile (A fraction of the demisto-sdk).\n",
    "```toml\n",
    "[[source]]\n",
    "url = \"https://pypi.org/simple\"\n",
    "verify_ssl = true\n",
    "name = \"pypi\"\n",
    "\n",
    "[packages]\n",
    "astroid = \"<2.5.4,>=2.4.2\"\n",
    "colorama = \"==0.4.1\"\n",
    "coloredlogs = \">=15.0\"\n",
    "\n",
    "[dev-packages]\n",
    "pytest = \"==6.2.4\"\n",
    "mypy = \"*\"\n",
    "demisto-sdk = {path = \".\", editable = true}\n",
    "\n",
    "[requires]\n",
    "python_version = \"3.9\"\n",
    "\n",
    "```"
   ]
  },
  {
   "cell_type": "markdown",
   "metadata": {
    "slideshow": {
     "slide_type": "subslide"
    }
   },
   "source": [
    "## Why is the Pipfile so smart? \n",
    "#### (and better than requirements.txt!!!)\n",
    "* Instead of multiple files - Just one TOML files with separated sections.\n",
    "* You can specify how to install packages (like in `demisto-sdk = {path = \".\", editable = true}`)\n",
    "* Change sources (PYPI, proxy, or your own repository)\n",
    "* Specify the python version"
   ]
  },
  {
   "cell_type": "markdown",
   "metadata": {
    "slideshow": {
     "slide_type": "subslide"
    }
   },
   "source": [
    "## What about Pipfile.lock?"
   ]
  },
  {
   "cell_type": "markdown",
   "metadata": {
    "slideshow": {
     "slide_type": "fragment"
    }
   },
   "source": [
    "Pipfile.lock is a list of all the current dependencies and sub dependencies \"locked\" into its version and sha256 hash."
   ]
  },
  {
   "cell_type": "markdown",
   "metadata": {
    "slideshow": {
     "slide_type": "subslide"
    }
   },
   "source": [
    "```json\n",
    "{\n",
    "    \"_meta\": {\n",
    "        \"hash\": {\n",
    "            \"sha256\": \"acfb73552f3f6ed7d3de3571a3ae5197af51b229a6317f3066e6a2c1d975c149\"\n",
    "        },\n",
    "        \"pipfile-spec\": 6,\n",
    "        \"requires\": {\n",
    "            \"python_version\": \"3.9\"\n",
    "        },\n",
    "        \"sources\": [\n",
    "            {\n",
    "                \"name\": \"pypi\",\n",
    "                \"url\": \"https://pypi.org/simple\",\n",
    "                \"verify_ssl\": true\n",
    "            }\n",
    "        ]\n",
    "    },\n",
    "    \"default\": {\n",
    "        \"astroid\": {\n",
    "            \"hashes\": [\n",
    "                \"sha256:ad63b8552c70939568966811a088ef0bc880f99a24a00834abd0e3681b514f91\",\n",
    "                \"sha256:bea3f32799fbb8581f58431c12591bc20ce11cbc90ad82e2ea5717d94f2080d5\"\n",
    "            ],\n",
    "            \"index\": \"pypi\",\n",
    "            \"version\": \"==2.5.3\"\n",
    "        },\n",
    "        \"colorama\": {\n",
    "            \"hashes\": [\n",
    "                \"sha256:05eed71e2e327246ad6b38c540c4a3117230b19679b875190486ddd2d721422d\",\n",
    "                \"sha256:f8ac84de7840f5b9c4e3347b3c1eaa50f7e49c2b07596221daec5edaabbd7c48\"\n",
    "            ],\n",
    "            \"index\": \"pypi\",\n",
    "            \"version\": \"==0.4.1\"\n",
    "        },\n",
    "        \"coloredlogs\": {\n",
    "            \"hashes\": [\n",
    "                \"sha256:612ee75c546f53e92e70049c9dbfcc18c935a2b9a53b66085ce9ef6a6e5c0934\",\n",
    "                \"sha256:7c991aa71a4577af2f82600d8f8f3a89f936baeaf9b50a9c197da014e5bf16b0\"\n",
    "            ],\n",
    "            \"index\": \"pypi\",\n",
    "            \"version\": \"==15.0.1\"\n",
    "        },\n",
    "        \"humanfriendly\": {\n",
    "            \"hashes\": [\n",
    "                \"sha256:332da98c24cc150efcc91b5508b19115209272bfdf4b0764a56795932f854271\",\n",
    "                \"sha256:f7dba53ac7935fd0b4a2fc9a29e316ddd9ea135fb3052d3d0279d10c18ff9c48\"\n",
    "            ],\n",
    "            \"markers\": \"python_version >= '2.7' and python_version not in '3.0, 3.1, 3.2, 3.3, 3.4'\",\n",
    "            \"version\": \"==9.2\"\n",
    "        },\n",
    "        \"lazy-object-proxy\": {\n",
    "            \"hashes\": [\n",
    "                \"sha256:17e0967ba374fc24141738c69736da90e94419338fd4c7c7bef01ee26b339653\",\n",
    "                \"sha256:1fee665d2638491f4d6e55bd483e15ef21f6c8c2095f235fef72601021e64f61\",\n",
    "                \"sha256:22ddd618cefe54305df49e4c069fa65715be4ad0e78e8d252a33debf00f6ede2\",\n",
    "                \"sha256:24a5045889cc2729033b3e604d496c2b6f588c754f7a62027ad4437a7ecc4837\",\n",
    "                \"sha256:410283732af311b51b837894fa2f24f2c0039aa7f220135192b38fcc42bd43d3\",\n",
    "                \"sha256:4732c765372bd78a2d6b2150a6e99d00a78ec963375f236979c0626b97ed8e43\",\n",
    "                \"sha256:489000d368377571c6f982fba6497f2aa13c6d1facc40660963da62f5c379726\",\n",
    "                \"sha256:4f60460e9f1eb632584c9685bccea152f4ac2130e299784dbaf9fae9f49891b3\",\n",
    "                \"sha256:5743a5ab42ae40caa8421b320ebf3a998f89c85cdc8376d6b2e00bd12bd1b587\",\n",
    "                \"sha256:85fb7608121fd5621cc4377a8961d0b32ccf84a7285b4f1d21988b2eae2868e8\",\n",
    "                \"sha256:9698110e36e2df951c7c36b6729e96429c9c32b3331989ef19976592c5f3c77a\",\n",
    "                \"sha256:9d397bf41caad3f489e10774667310d73cb9c4258e9aed94b9ec734b34b495fd\",\n",
    "                \"sha256:b579f8acbf2bdd9ea200b1d5dea36abd93cabf56cf626ab9c744a432e15c815f\",\n",
    "                \"sha256:b865b01a2e7f96db0c5d12cfea590f98d8c5ba64ad222300d93ce6ff9138bcad\",\n",
    "                \"sha256:bf34e368e8dd976423396555078def5cfc3039ebc6fc06d1ae2c5a65eebbcde4\",\n",
    "                \"sha256:c6938967f8528b3668622a9ed3b31d145fab161a32f5891ea7b84f6b790be05b\",\n",
    "                \"sha256:d1c2676e3d840852a2de7c7d5d76407c772927addff8d742b9808fe0afccebdf\",\n",
    "                \"sha256:d7124f52f3bd259f510651450e18e0fd081ed82f3c08541dffc7b94b883aa981\",\n",
    "                \"sha256:d900d949b707778696fdf01036f58c9876a0d8bfe116e8d220cfd4b15f14e741\",\n",
    "                \"sha256:ebfd274dcd5133e0afae738e6d9da4323c3eb021b3e13052d8cbd0e457b1256e\",\n",
    "                \"sha256:ed361bb83436f117f9917d282a456f9e5009ea12fd6de8742d1a4752c3017e93\",\n",
    "                \"sha256:f5144c75445ae3ca2057faac03fda5a902eff196702b0a24daf1d6ce0650514b\"\n",
    "            ],\n",
    "            \"markers\": \"python_version >= '2.7' and python_version not in '3.0, 3.1, 3.2, 3.3, 3.4, 3.5'\",\n",
    "            \"version\": \"==1.6.0\"\n",
    "        },\n",
    "        \"wrapt\": {\n",
    "            \"hashes\": [\n",
    "                \"sha256:b62ffa81fb85f4332a4f609cab4ac40709470da05643a082ec1eb88e6d9b97d7\"\n",
    "            ],\n",
    "            \"version\": \"==1.12.1\"\n",
    "        }\n",
    "    },\n",
    "    \"develop\": {\n",
    "        \"attrs\": {\n",
    "            \"hashes\": [\n",
    "                \"sha256:149e90d6d8ac20db7a955ad60cf0e6881a3f20d37096140088356da6c716b0b1\",\n",
    "                \"sha256:ef6aaac3ca6cd92904cdd0d83f629a15f18053ec84e6432106f7a4d04ae4f5fb\"\n",
    "            ],\n",
    "            \"markers\": \"python_version >= '2.7' and python_version not in '3.0, 3.1, 3.2, 3.3, 3.4'\",\n",
    "            \"version\": \"==21.2.0\"\n",
    "        },\n",
    "        \"demisto-sdk\": {\n",
    "            \"editable\": true,\n",
    "            \"path\": \".\"\n",
    "        },\n",
    "        \"iniconfig\": {\n",
    "            \"hashes\": [\n",
    "                \"sha256:011e24c64b7f47f6ebd835bb12a743f2fbe9a26d4cecaa7f53bc4f35ee9da8b3\",\n",
    "                \"sha256:bc3af051d7d14b2ee5ef9969666def0cd1a000e121eaea580d4a313df4b37f32\"\n",
    "            ],\n",
    "            \"version\": \"==1.1.1\"\n",
    "        },\n",
    "        \"mypy\": {\n",
    "            \"hashes\": [\n",
    "                \"sha256:088cd9c7904b4ad80bec811053272986611b84221835e079be5bcad029e79dd9\",\n",
    "                \"sha256:0aadfb2d3935988ec3815952e44058a3100499f5be5b28c34ac9d79f002a4a9a\",\n",
    "                \"sha256:119bed3832d961f3a880787bf621634ba042cb8dc850a7429f643508eeac97b9\",\n",
    "                \"sha256:1a85e280d4d217150ce8cb1a6dddffd14e753a4e0c3cf90baabb32cefa41b59e\",\n",
    "                \"sha256:3c4b8ca36877fc75339253721f69603a9c7fdb5d4d5a95a1a1b899d8b86a4de2\",\n",
    "                \"sha256:3e382b29f8e0ccf19a2df2b29a167591245df90c0b5a2542249873b5c1d78212\",\n",
    "                \"sha256:42c266ced41b65ed40a282c575705325fa7991af370036d3f134518336636f5b\",\n",
    "                \"sha256:53fd2eb27a8ee2892614370896956af2ff61254c275aaee4c230ae771cadd885\",\n",
    "                \"sha256:704098302473cb31a218f1775a873b376b30b4c18229421e9e9dc8916fd16150\",\n",
    "                \"sha256:7df1ead20c81371ccd6091fa3e2878559b5c4d4caadaf1a484cf88d93ca06703\",\n",
    "                \"sha256:866c41f28cee548475f146aa4d39a51cf3b6a84246969f3759cb3e9c742fc072\",\n",
    "                \"sha256:a155d80ea6cee511a3694b108c4494a39f42de11ee4e61e72bc424c490e46457\",\n",
    "                \"sha256:adaeee09bfde366d2c13fe6093a7df5df83c9a2ba98638c7d76b010694db760e\",\n",
    "                \"sha256:b6fb13123aeef4a3abbcfd7e71773ff3ff1526a7d3dc538f3929a49b42be03f0\",\n",
    "                \"sha256:b94e4b785e304a04ea0828759172a15add27088520dc7e49ceade7834275bedb\",\n",
    "                \"sha256:c0df2d30ed496a08de5daed2a9ea807d07c21ae0ab23acf541ab88c24b26ab97\",\n",
    "                \"sha256:c6c2602dffb74867498f86e6129fd52a2770c48b7cd3ece77ada4fa38f94eba8\",\n",
    "                \"sha256:ceb6e0a6e27fb364fb3853389607cf7eb3a126ad335790fa1e14ed02fba50811\",\n",
    "                \"sha256:d9dd839eb0dc1bbe866a288ba3c1afc33a202015d2ad83b31e875b5905a079b6\",\n",
    "                \"sha256:e4dab234478e3bd3ce83bac4193b2ecd9cf94e720ddd95ce69840273bf44f6de\",\n",
    "                \"sha256:ec4e0cd079db280b6bdabdc807047ff3e199f334050db5cbb91ba3e959a67504\",\n",
    "                \"sha256:ecd2c3fe726758037234c93df7e98deb257fd15c24c9180dacf1ef829da5f921\",\n",
    "                \"sha256:ef565033fa5a958e62796867b1df10c40263ea9ded87164d67572834e57a174d\"\n",
    "            ],\n",
    "            \"index\": \"pypi\",\n",
    "            \"version\": \"==0.910\"\n",
    "        },\n",
    "        \"mypy-extensions\": {\n",
    "            \"hashes\": [\n",
    "                \"sha256:090fedd75945a69ae91ce1303b5824f428daf5a028d2f6ab8a299250a846f15d\",\n",
    "                \"sha256:2d82818f5bb3e369420cb3c4060a7970edba416647068eb4c5343488a6c604a8\"\n",
    "            ],\n",
    "            \"version\": \"==0.4.3\"\n",
    "        },\n",
    "        \"packaging\": {\n",
    "            \"hashes\": [\n",
    "                \"sha256:5b327ac1320dc863dca72f4514ecc086f31186744b84a230374cc1fd776feae5\",\n",
    "                \"sha256:67714da7f7bc052e064859c05c595155bd1ee9f69f76557e21f051443c20947a\"\n",
    "            ],\n",
    "            \"markers\": \"python_version >= '2.7' and python_version not in '3.0, 3.1, 3.2, 3.3'\",\n",
    "            \"version\": \"==20.9\"\n",
    "        },\n",
    "        \"pluggy\": {\n",
    "            \"hashes\": [\n",
    "                \"sha256:15b2acde666561e1298d71b523007ed7364de07029219b604cf808bfa1c765b0\",\n",
    "                \"sha256:966c145cd83c96502c3c3868f50408687b38434af77734af1e9ca461a4081d2d\"\n",
    "            ],\n",
    "            \"markers\": \"python_version >= '2.7' and python_version not in '3.0, 3.1, 3.2, 3.3'\",\n",
    "            \"version\": \"==0.13.1\"\n",
    "        },\n",
    "        \"py\": {\n",
    "            \"hashes\": [\n",
    "                \"sha256:21b81bda15b66ef5e1a777a21c4dcd9c20ad3efd0b3f817e7a809035269e1bd3\",\n",
    "                \"sha256:3b80836aa6d1feeaa108e046da6423ab8f6ceda6468545ae8d02d9d58d18818a\"\n",
    "            ],\n",
    "            \"markers\": \"python_version >= '2.7' and python_version not in '3.0, 3.1, 3.2, 3.3'\",\n",
    "            \"version\": \"==1.10.0\"\n",
    "        },\n",
    "        \"pyparsing\": {\n",
    "            \"hashes\": [\n",
    "                \"sha256:c203ec8783bf771a155b207279b9bccb8dea02d8f0c9e5f8ead507bc3246ecc1\",\n",
    "                \"sha256:ef9d7589ef3c200abe66653d3f1ab1033c3c419ae9b9bdb1240a85b024efc88b\"\n",
    "            ],\n",
    "            \"markers\": \"python_version >= '2.6' and python_version not in '3.0, 3.1, 3.2'\",\n",
    "            \"version\": \"==2.4.7\"\n",
    "        },\n",
    "        \"pytest\": {\n",
    "            \"hashes\": [\n",
    "                \"sha256:50bcad0a0b9c5a72c8e4e7c9855a3ad496ca6a881a3641b4260605450772c54b\",\n",
    "                \"sha256:91ef2131a9bd6be8f76f1f08eac5c5317221d6ad1e143ae03894b862e8976890\"\n",
    "            ],\n",
    "            \"index\": \"pypi\",\n",
    "            \"version\": \"==6.2.4\"\n",
    "        },\n",
    "        \"setuptools-scm\": {\n",
    "            \"hashes\": [\n",
    "                \"sha256:c3bd5f701c8def44a5c0bfe8d407bef3f80342217ef3492b951f3777bd2d915c\",\n",
    "                \"sha256:d1925a69cb07e9b29416a275b9fadb009a23c148ace905b2fb220649a6c18e92\"\n",
    "            ],\n",
    "            \"markers\": \"python_version >= '3.6'\",\n",
    "            \"version\": \"==6.0.1\"\n",
    "        },\n",
    "        \"toml\": {\n",
    "            \"hashes\": [\n",
    "                \"sha256:806143ae5bfb6a3c6e736a764057db0e6a0e05e338b5630894a5f779cabb4f9b\",\n",
    "                \"sha256:b3bda1d108d5dd99f4a20d24d9c348e91c4db7ab1b749200bded2f839ccbe68f\"\n",
    "            ],\n",
    "            \"markers\": \"python_version >= '2.6' and python_version not in '3.0, 3.1, 3.2'\",\n",
    "            \"version\": \"==0.10.2\"\n",
    "        },\n",
    "        \"typing-extensions\": {\n",
    "            \"hashes\": [\n",
    "                \"sha256:0ac0f89795dd19de6b97debb0c6af1c70987fd80a2d62d1958f7e56fcc31b497\",\n",
    "                \"sha256:50b6f157849174217d0656f99dc82fe932884fb250826c18350e159ec6cdf342\",\n",
    "                \"sha256:779383f6086d90c99ae41cf0ff39aac8a7937a9283ce0a414e5dd782f4c94a84\"\n",
    "            ],\n",
    "            \"version\": \"==3.10.0.0\"\n",
    "        }\n",
    "    }\n",
    "}\n",
    "```"
   ]
  },
  {
   "cell_type": "markdown",
   "metadata": {
    "slideshow": {
     "slide_type": "subslide"
    }
   },
   "source": [
    "### Pipfile is for development environment.\n",
    "\n",
    "### Pipfile.lock is for PRODUCTION\n",
    "![production scare](https://media.giphy.com/media/N13TWdDSpmPIDAQ9Gi/giphy.gif)"
   ]
  },
  {
   "cell_type": "markdown",
   "metadata": {
    "slideshow": {
     "slide_type": "subslide"
    }
   },
   "source": [
    "### Create pipenv environment with Pipfile (and without)\n",
    "\n",
    "`pipenv install` will create the pipenv from the Pipfile (if exists).\n",
    "\n",
    "### No Pipfile but there's a requirements.txt?\n",
    "\n",
    "`pipenv install -r requirements.txt`, it'll generate a the Pipfile."
   ]
  },
  {
   "cell_type": "markdown",
   "metadata": {
    "slideshow": {
     "slide_type": "subslide"
    }
   },
   "source": [
    "### Use the environment in the shell:\n",
    "`pipenv shell`\n",
    "\n",
    "![shell](https://media.giphy.com/media/FW74VdiJJZxtK/giphy.gif)\n",
    "\n",
    "### Add dependency to the dev list\n",
    "\n",
    "`pipenv install <package> --dev`"
   ]
  },
  {
   "cell_type": "markdown",
   "metadata": {
    "slideshow": {
     "slide_type": "subslide"
    }
   },
   "source": [
    "## What about production? how do I install the Pipfile.lock?\n",
    "`pipenv sync`\n",
    "\n",
    "### To update the Pipfile.lock with the current environment:\n",
    "`pipenv lock`\n",
    "\n",
    "## To deactivate the environment:\n",
    "`deactivate` or `exit`"
   ]
  },
  {
   "cell_type": "markdown",
   "metadata": {
    "slideshow": {
     "slide_type": "subslide"
    }
   },
   "source": [
    "# Why demisto/content is the best used with pipenv?"
   ]
  },
  {
   "cell_type": "markdown",
   "metadata": {
    "slideshow": {
     "slide_type": "fragment"
    }
   },
   "source": [
    "* Every integration and every script is its own project. \n",
    "\n",
    "* Cross-dependencies\n",
    "\n",
    "* Cross Python versions"
   ]
  },
  {
   "cell_type": "markdown",
   "metadata": {
    "slideshow": {
     "slide_type": "subslide"
    }
   },
   "source": [
    "Workflow:\n",
    "```shell\n",
    "(content) ➜  content git:(master)  exit\n",
    "```"
   ]
  },
  {
   "cell_type": "markdown",
   "metadata": {
    "slideshow": {
     "slide_type": "fragment"
    }
   },
   "source": [
    "```shell\n",
    "➜  content git:(master)  cd Packs/Box/Integrations/BoxV2\n",
    "➜  BoxV2 git:(master)  pipenv install\n",
    "```"
   ]
  },
  {
   "cell_type": "markdown",
   "metadata": {
    "slideshow": {
     "slide_type": "fragment"
    }
   },
   "source": [
    "```shell\n",
    "Warning: Python 3.7 was not found on your system...\n",
    "Would you like us to install CPython 3.7.10 with Pyenv? [Y/n]: y\n",
    "Installing CPython 3.7.10 with /usr/local/bin/pyenv (this may take a few minutes)...\n",
    "✔ Success!\n",
    "Downloading Python-3.7.10.tar.xz...\n",
    "-> https://www.python.org/ftp/python/3.7.10/Python-3.7.10.tar.xz\n",
    "Installing Python-3.7.10...\n",
    "Installed Python-3.7.10 to /Users/bhochman/.pyenv/versions/3.7.10\n",
    "```"
   ]
  },
  {
   "cell_type": "markdown",
   "metadata": {
    "slideshow": {
     "slide_type": "subslide"
    }
   },
   "source": [
    "```bash\n",
    "\n",
    "Creating a virtualenv for this project...\n",
    "Pipfile: /Users/bhochman/dev/demisto/content/Packs/Box/Integrations/BoxV2/Pipfile\n",
    "Using /Users/bhochman/.pyenv/versions/3.7.10/bin/python3.7m (3.7.10) to create virtualenv...\n",
    "⠹ Creating virtual environment...created virtual environment CPython3.7.10.final.0-64 in 743ms\n",
    ".\n",
    ".\n",
    ".\n",
    "✔ Successfully created virtual environment!\n",
    "Virtualenv location: /Users/bhochman/.local/share/virtualenvs/BoxV2-ZqM23vJO\n",
    "Installing dependencies from Pipfile.lock (f78b55)...\n",
    "  🐍   ▉▉▉▉▉▉▉▉▉▉▉▉▉▉▉▉▉▉▉▉▉▉▉▉▉▉▉▉▉▉▉▉ 17/17 — 00:00:06\n",
    "To activate this projects virtualenv, run pipenv shell.\n",
    "Alternatively, run a command inside the virtualenv with pipenv run.\n",
    "```"
   ]
  },
  {
   "cell_type": "markdown",
   "metadata": {
    "slideshow": {
     "slide_type": "fragment"
    }
   },
   "source": [
    "```shell\n",
    "➜  BoxV2 git:(master) ✗ pipenv shell\n",
    "Launching subshell in virtual environment...\n",
    " . /Users/bhochman/.local/share/virtualenvs/BoxV2-ZqM23vJO/bin/activate\n",
    "➜  BoxV2 git:(master) ✗  . /Users/bhochman/.local/share/virtualenvs/BoxV2-ZqM23vJO/bin/activate\n",
    "(BoxV2) ➜  BoxV2 git:(master) ✗\n",
    "```"
   ]
  },
  {
   "cell_type": "markdown",
   "metadata": {
    "slideshow": {
     "slide_type": "slide"
    }
   },
   "source": [
    "# Now USE IT"
   ]
  },
  {
   "cell_type": "markdown",
   "metadata": {
    "slideshow": {
     "slide_type": "fragment"
    }
   },
   "source": [
    "* Create two directories:\n",
    "    * coloramapy2\n",
    "    * coloramapy3\n",
    "\n",
    "Create in each one pipenv and run the following code:\n",
    "```python\n",
    "from colorama import Fore\n",
    "print(Fore.RED + 'I know how to use pipenv!!!')\n",
    "```\n",
    "\n",
    "dont forget to install each environment, fix the code for python2"
   ]
  },
  {
   "cell_type": "markdown",
   "metadata": {
    "slideshow": {
     "slide_type": "fragment"
    }
   },
   "source": [
    "![GOOD LUCK](https://media.giphy.com/media/xTiTng7eyNZuXl7GzC/giphy.gif)"
   ]
  }
 ],
 "metadata": {
  "celltoolbar": "Slideshow",
  "kernelspec": {
   "display_name": "Python 3",
   "language": "python",
   "name": "python3"
  },
  "language_info": {
   "codemirror_mode": {
    "name": "ipython",
    "version": 3
   },
   "file_extension": ".py",
   "mimetype": "text/x-python",
   "name": "python",
   "nbconvert_exporter": "python",
   "pygments_lexer": "ipython3",
   "version": "3.9.4"
  }
 },
 "nbformat": 4,
 "nbformat_minor": 2
}
